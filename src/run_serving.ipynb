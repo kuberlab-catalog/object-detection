{
 "cells": [
  {
   "cell_type": "code",
   "execution_count": 9,
   "metadata": {},
   "outputs": [],
   "source": [
    "from grpc.beta import implementations\n",
    "import numpy as np\n",
    "from matplotlib import pyplot as plt\n",
    "from PIL import Image\n",
    "import scipy.misc\n",
    "import tensorflow as tf\n",
    "from tensorflow_serving.apis import predict_pb2\n",
    "from tensorflow_serving.apis import prediction_service_pb2\n",
    "\n",
    "from object_detection.utils import label_map_util\n",
    "from object_detection.utils import visualization_utils as vis_util"
   ]
  },
  {
   "cell_type": "code",
   "execution_count": 80,
   "metadata": {},
   "outputs": [],
   "source": [
    "PATH_TO_LABELS = '/notebooks/data/pet_label_map.pbtxt'\n",
    "SERVING_HOST = 'object-detection.21-kuberlab-demo.svc.cluster.local'\n",
    "IMAGE_FILE = '/notebooks/pet.jpg'\n",
    "OUTPUT_FILE = '/notebooks/outfile.png'\n",
    "MODEL_NAME = 'object-detection-pets'\n",
    "IMAGE_SIZE = (18, 12)"
   ]
  },
  {
   "cell_type": "code",
   "execution_count": null,
   "metadata": {},
   "outputs": [],
   "source": [
    "def load_image_into_numpy_array(image):\n",
    "  (im_width, im_height) = image.size\n",
    "  return np.array(image.getdata()).reshape(\n",
    "      (im_height, im_width, 3)).astype(np.uint8)"
   ]
  },
  {
   "cell_type": "code",
   "execution_count": 12,
   "metadata": {},
   "outputs": [],
   "source": [
    "data = open(IMAGE_FILE, 'rb').read() # Binary data to serving\n",
    "image = Image.open(IMAGE_FILE) # Image will be used for drawing detection boxes\n",
    "image_np = load_image_into_numpy_array(image)\n",
    "image_np_expanded = np.expand_dims(image_np, axis=0)\n",
    "proto = tf.contrib.util.make_tensor_proto(data, shape=[1])\n",
    "\n",
    "request = predict_pb2.PredictRequest()\n",
    "request.model_spec.name = MODEL_NAME\n",
    "request.inputs['inputs'].ParseFromString(proto.SerializeToString())\n",
    "channel = implementations.insecure_channel(SERVING_HOST, 9000)\n",
    "stub = prediction_service_pb2.beta_create_PredictionService_stub(channel)"
   ]
  },
  {
   "cell_type": "code",
   "execution_count": 20,
   "metadata": {},
   "outputs": [],
   "source": [
    "resp = stub.Predict(request, 10.0)"
   ]
  },
  {
   "cell_type": "code",
   "execution_count": 26,
   "metadata": {},
   "outputs": [],
   "source": [
    "label_map = label_map_util.load_labelmap(PATH_TO_LABELS)\n",
    "max_num_classes = max([item.id for item in label_map.item])\n",
    "\n",
    "categories = label_map_util.convert_label_map_to_categories(label_map, max_num_classes)\n",
    "category_index = label_map_util.create_category_index(categories)"
   ]
  },
  {
   "cell_type": "code",
   "execution_count": 76,
   "metadata": {},
   "outputs": [],
   "source": [
    "# Convert tensorflow output protos to dict\n",
    "output_dict = {}\n",
    "for key in resp.outputs:\n",
    "    tensor_proto = resp.outputs[key]\n",
    "    nd_array = tf.contrib.util.make_ndarray(tensor_proto)\n",
    "    output_dict[key] = nd_array\n",
    "\n",
    "# Convert each value to appropriate type\n",
    "output_dict['num_detections'] = int(output_dict['num_detections'][0])\n",
    "output_dict['detection_classes'] = output_dict['detection_classes'][0].astype(np.uint8)\n",
    "output_dict['detection_boxes'] = output_dict['detection_boxes'][0]\n",
    "output_dict['detection_scores'] = output_dict['detection_scores'][0]\n",
    "if 'detection_masks' in output_dict:\n",
    "    output_dict['detection_masks'] = output_dict['detection_masks'][0]"
   ]
  },
  {
   "cell_type": "code",
   "execution_count": 77,
   "metadata": {},
   "outputs": [],
   "source": [
    "# Visualize\n",
    "%matplotlib inline\n",
    "image_with_boxes = vis_util.visualize_boxes_and_labels_on_image_array(\n",
    "      image_np,\n",
    "      output_dict['detection_boxes'],\n",
    "      output_dict['detection_classes'],\n",
    "      output_dict['detection_scores'],\n",
    "      category_index,\n",
    "      instance_masks=output_dict.get('detection_masks'),\n",
    "      use_normalized_coordinates=True,\n",
    "      line_thickness=8\n",
    ")\n",
    "plt.figure(figsize=IMAGE_SIZE)\n",
    "plt.imshow(image_np)"
   ]
  },
  {
   "cell_type": "code",
   "execution_count": null,
   "metadata": {},
   "outputs": [],
   "source": [
    "# Determine name if it is not seen quite good.\n",
    "print(category_index[output_dict['detection_classes'][0]]['name'])"
   ]
  },
  {
   "cell_type": "code",
   "execution_count": null,
   "metadata": {},
   "outputs": [],
   "source": [
    "# Save image so we can download it\n",
    "scipy.misc.imsave(OUTPUT_FILE, image_np)"
   ]
  }
 ],
 "metadata": {
  "kernelspec": {
   "display_name": "Python 2",
   "language": "python",
   "name": "python2"
  },
  "language_info": {
   "codemirror_mode": {
    "name": "ipython",
    "version": 2
   },
   "file_extension": ".py",
   "mimetype": "text/x-python",
   "name": "python",
   "nbconvert_exporter": "python",
   "pygments_lexer": "ipython2",
   "version": "2.7.12"
  }
 },
 "nbformat": 4,
 "nbformat_minor": 2
}
